{
 "cells": [
  {
   "cell_type": "markdown",
   "id": "fdcf4ab0-43f7-434b-9f27-fcebc899e844",
   "metadata": {},
   "source": [
    "## terratorch testing\n"
   ]
  },
  {
   "cell_type": "code",
   "execution_count": 14,
   "id": "81015a47-d90c-4f74-9264-e4de3f34b766",
   "metadata": {},
   "outputs": [
    {
     "name": "stdout",
     "output_type": "stream",
     "text": [
      "2024-10-24 05:57:53.673968: I tensorflow/core/util/port.cc:153] oneDNN custom operations are on. You may see slightly different numerical results due to floating-point round-off errors from different computation orders. To turn them off, set the environment variable `TF_ENABLE_ONEDNN_OPTS=0`.\n",
      "2024-10-24 05:57:53.691272: E external/local_xla/xla/stream_executor/cuda/cuda_fft.cc:485] Unable to register cuFFT factory: Attempting to register factory for plugin cuFFT when one has already been registered\n",
      "2024-10-24 05:57:53.711755: E external/local_xla/xla/stream_executor/cuda/cuda_dnn.cc:8454] Unable to register cuDNN factory: Attempting to register factory for plugin cuDNN when one has already been registered\n",
      "2024-10-24 05:57:53.718012: E external/local_xla/xla/stream_executor/cuda/cuda_blas.cc:1452] Unable to register cuBLAS factory: Attempting to register factory for plugin cuBLAS when one has already been registered\n",
      "2024-10-24 05:57:53.732584: I tensorflow/core/platform/cpu_feature_guard.cc:210] This TensorFlow binary is optimized to use available CPU instructions in performance-critical operations.\n",
      "To enable the following instructions: AVX2 AVX512F AVX512_VNNI FMA, in other operations, rebuild TensorFlow with the appropriate compiler flags.\n",
      "2024-10-24 05:57:54.822602: W tensorflow/compiler/tf2tensorrt/utils/py_utils.cc:38] TF-TRT Warning: Could not find TensorRT\n",
      "granitewcx is not installed.\n",
      "Seed set to 0\n",
      "/opt/conda/lib/python3.11/site-packages/lightning/pytorch/cli.py:676: `SemanticSegmentationTask.configure_optimizers` will be overridden by `MyLightningCLI.configure_optimizers`.\n",
      "Using 16bit Automatic Mixed Precision (AMP)\n",
      "GPU available: True (cuda), used: True\n",
      "TPU available: False, using: 0 TPU cores\n",
      "HPU available: False, using: 0 HPUs\n",
      "Restoring states from the checkpoint path at logs/fire_scars/version_18/checkpoints/\n",
      "Traceback (most recent call last):\n",
      "  File \"/opt/conda/bin/terratorch\", line 8, in <module>\n",
      "    sys.exit(main())\n",
      "             ^^^^^^\n",
      "  File \"/opt/conda/lib/python3.11/site-packages/terratorch/__main__.py\", line 9, in main\n",
      "    _ = build_lightning_cli()\n",
      "        ^^^^^^^^^^^^^^^^^^^^^\n",
      "  File \"/opt/conda/lib/python3.11/site-packages/terratorch/cli_tools.py\", line 364, in build_lightning_cli\n",
      "    return MyLightningCLI(\n",
      "           ^^^^^^^^^^^^^^^\n",
      "  File \"/opt/conda/lib/python3.11/site-packages/lightning/pytorch/cli.py\", line 394, in __init__\n",
      "    self._run_subcommand(self.subcommand)\n",
      "  File \"/opt/conda/lib/python3.11/site-packages/lightning/pytorch/cli.py\", line 701, in _run_subcommand\n",
      "    fn(**fn_kwargs)\n",
      "  File \"/opt/conda/lib/python3.11/site-packages/lightning/pytorch/trainer/trainer.py\", line 748, in test\n",
      "    return call._call_and_handle_interrupt(\n",
      "           ^^^^^^^^^^^^^^^^^^^^^^^^^^^^^^^^\n",
      "  File \"/opt/conda/lib/python3.11/site-packages/lightning/pytorch/trainer/call.py\", line 47, in _call_and_handle_interrupt\n",
      "    return trainer_fn(*args, **kwargs)\n",
      "           ^^^^^^^^^^^^^^^^^^^^^^^^^^^\n",
      "  File \"/opt/conda/lib/python3.11/site-packages/lightning/pytorch/trainer/trainer.py\", line 788, in _test_impl\n",
      "    results = self._run(model, ckpt_path=ckpt_path)\n",
      "              ^^^^^^^^^^^^^^^^^^^^^^^^^^^^^^^^^^^^^\n",
      "  File \"/opt/conda/lib/python3.11/site-packages/lightning/pytorch/trainer/trainer.py\", line 950, in _run\n",
      "    self._checkpoint_connector._restore_modules_and_callbacks(ckpt_path)\n",
      "  File \"/opt/conda/lib/python3.11/site-packages/lightning/pytorch/trainer/connectors/checkpoint_connector.py\", line 397, in _restore_modules_and_callbacks\n",
      "    self.resume_start(checkpoint_path)\n",
      "  File \"/opt/conda/lib/python3.11/site-packages/lightning/pytorch/trainer/connectors/checkpoint_connector.py\", line 79, in resume_start\n",
      "    loaded_checkpoint = self.trainer.strategy.load_checkpoint(checkpoint_path)\n",
      "                        ^^^^^^^^^^^^^^^^^^^^^^^^^^^^^^^^^^^^^^^^^^^^^^^^^^^^^^\n",
      "  File \"/opt/conda/lib/python3.11/site-packages/lightning/pytorch/strategies/strategy.py\", line 367, in load_checkpoint\n",
      "    return self.checkpoint_io.load_checkpoint(checkpoint_path)\n",
      "           ^^^^^^^^^^^^^^^^^^^^^^^^^^^^^^^^^^^^^^^^^^^^^^^^^^^\n",
      "  File \"/opt/conda/lib/python3.11/site-packages/lightning/fabric/plugins/io/torch_io.py\", line 83, in load_checkpoint\n",
      "    return pl_load(path, map_location=map_location)\n",
      "           ^^^^^^^^^^^^^^^^^^^^^^^^^^^^^^^^^^^^^^^^\n",
      "  File \"/opt/conda/lib/python3.11/site-packages/lightning/fabric/utilities/cloud_io.py\", line 59, in _load\n",
      "    with fs.open(path_or_url, \"rb\") as f:\n",
      "         ^^^^^^^^^^^^^^^^^^^^^^^^^^\n",
      "  File \"/opt/conda/lib/python3.11/site-packages/fsspec/spec.py\", line 1241, in open\n",
      "    f = self._open(\n",
      "        ^^^^^^^^^^^\n",
      "  File \"/opt/conda/lib/python3.11/site-packages/fsspec/implementations/local.py\", line 184, in _open\n",
      "    return LocalFileOpener(path, mode, fs=self, **kwargs)\n",
      "           ^^^^^^^^^^^^^^^^^^^^^^^^^^^^^^^^^^^^^^^^^^^^^^\n",
      "  File \"/opt/conda/lib/python3.11/site-packages/fsspec/implementations/local.py\", line 315, in __init__\n",
      "    self._open()\n",
      "  File \"/opt/conda/lib/python3.11/site-packages/fsspec/implementations/local.py\", line 320, in _open\n",
      "    self.f = open(self.path, mode=self.mode)\n",
      "             ^^^^^^^^^^^^^^^^^^^^^^^^^^^^^^^\n",
      "IsADirectoryError: [Errno 21] Is a directory: '/home/sagemaker-user/rsds-hackathon-24/logs/fire_scars/version_18/checkpoints'\n"
     ]
    }
   ],
   "source": [
    "!terratorch test --config configs/fire_scars.yaml --ckpt_path logs/fire_scars/version_18/checkpoints/"
   ]
  },
  {
   "cell_type": "code",
   "execution_count": null,
   "id": "90a08170-f263-4b21-96c6-b67c5015611b",
   "metadata": {},
   "outputs": [],
   "source": []
  },
  {
   "cell_type": "code",
   "execution_count": null,
   "id": "4b188dec-0454-4c77-b904-8b61351b88eb",
   "metadata": {},
   "outputs": [],
   "source": []
  }
 ],
 "metadata": {
  "kernelspec": {
   "display_name": "Python 3 (ipykernel)",
   "language": "python",
   "name": "python3"
  },
  "language_info": {
   "codemirror_mode": {
    "name": "ipython",
    "version": 3
   },
   "file_extension": ".py",
   "mimetype": "text/x-python",
   "name": "python",
   "nbconvert_exporter": "python",
   "pygments_lexer": "ipython3",
   "version": "3.11.9"
  }
 },
 "nbformat": 4,
 "nbformat_minor": 5
}
